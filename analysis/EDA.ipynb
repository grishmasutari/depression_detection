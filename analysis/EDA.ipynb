{
 "cells": [
  {
   "cell_type": "code",
   "execution_count": 1,
   "id": "d6abe4f7",
   "metadata": {},
   "outputs": [],
   "source": [
    "import pandas as pd\n",
    "import numpy as np\n",
    "\n",
    "from analyze_src.basic_data_inspection import DataInspector, DataTypesInspectionStrategy, BasicInfoInspectionStrategy, RandomSamplesInspectionStrategy, TextCountStatsInspectionStrategy, CountStatsInspectionStrategy"
   ]
  },
  {
   "cell_type": "code",
   "execution_count": 2,
   "id": "bde466ce",
   "metadata": {},
   "outputs": [],
   "source": [
    "data_path = '../data/Depression_Severity_Levels_Dataset.csv'\n",
    "df = pd.read_csv(data_path)"
   ]
  },
  {
   "cell_type": "code",
   "execution_count": 3,
   "id": "a1527057",
   "metadata": {},
   "outputs": [
    {
     "name": "stdout",
     "output_type": "stream",
     "text": [
      "\n",
      "Data Types and Non-null Counts:\n",
      "<class 'pandas.core.frame.DataFrame'>\n",
      "RangeIndex: 41873 entries, 0 to 41872\n",
      "Data columns (total 2 columns):\n",
      " #   Column  Non-Null Count  Dtype \n",
      "---  ------  --------------  ----- \n",
      " 0   text    41859 non-null  object\n",
      " 1   label   41873 non-null  object\n",
      "dtypes: object(2)\n",
      "memory usage: 654.4+ KB\n",
      "None\n"
     ]
    }
   ],
   "source": [
    "# Step 1: Basic Data Inspection\n",
    "# ------------------------------------\n",
    "# Initialize the Data Inspector with a strategy for Data Types Inspection\n",
    "data_inspector = DataInspector(DataTypesInspectionStrategy())\n",
    "data_inspector.execute_inspection(df)"
   ]
  },
  {
   "cell_type": "code",
   "execution_count": 4,
   "id": "638ff307",
   "metadata": {},
   "outputs": [
    {
     "name": "stdout",
     "output_type": "stream",
     "text": [
      "Shape: (41873, 2)\n",
      "Null values:\n",
      " text     14\n",
      "label     0\n",
      "dtype: int64\n",
      "Duplicate rows: 6406\n"
     ]
    }
   ],
   "source": [
    "data_inspector.set_strategy(BasicInfoInspectionStrategy())\n",
    "data_inspector.execute_inspection(df)"
   ]
  },
  {
   "cell_type": "code",
   "execution_count": 5,
   "id": "c798f674",
   "metadata": {},
   "outputs": [
    {
     "name": "stdout",
     "output_type": "stream",
     "text": [
      "\n",
      "Random Sample:\n",
      "                                                     text     label\n",
      "15529  I am struggling to find out what to do Either ...      mild\n",
      "12248  My little brother may have cancer and I think ...    severe\n",
      "17680  I am 16 for as long as I can remember I have b...      mild\n",
      "7514   Why can I never win? : I feel like I can never...  moderate\n",
      "15310  Does anyone every feel like laughing at memes ...      mild\n"
     ]
    }
   ],
   "source": [
    "data_inspector.set_strategy(RandomSamplesInspectionStrategy())\n",
    "data_inspector.execute_inspection(df)"
   ]
  },
  {
   "cell_type": "code",
   "execution_count": 6,
   "id": "379efbb4",
   "metadata": {},
   "outputs": [
    {
     "name": "stderr",
     "output_type": "stream",
     "text": [
      "[nltk_data] Downloading package punkt_tab to\n",
      "[nltk_data]     C:\\Users\\HOME\\AppData\\Roaming\\nltk_data...\n",
      "[nltk_data]   Package punkt_tab is already up-to-date!\n"
     ]
    },
    {
     "data": {
      "text/plain": [
       "True"
      ]
     },
     "execution_count": 6,
     "metadata": {},
     "output_type": "execute_result"
    }
   ],
   "source": [
    "import nltk\n",
    "nltk.download('punkt_tab')"
   ]
  },
  {
   "cell_type": "code",
   "execution_count": 7,
   "id": "720f71eb",
   "metadata": {},
   "outputs": [
    {
     "name": "stderr",
     "output_type": "stream",
     "text": [
      "[nltk_data] Downloading package punkt_tab to\n",
      "[nltk_data]     C:\\Users\\HOME\\AppData\\Roaming\\nltk_data...\n",
      "[nltk_data]   Package punkt_tab is already up-to-date!\n"
     ]
    },
    {
     "name": "stdout",
     "output_type": "stream",
     "text": [
      "\n",
      "Character count stats:\n",
      " count    41873.000000\n",
      "mean       620.619803\n",
      "std        876.233440\n",
      "min          1.000000\n",
      "25%        121.000000\n",
      "50%        360.000000\n",
      "75%        768.000000\n",
      "max      27390.000000\n",
      "Name: char_count, dtype: float64\n",
      "\n",
      "Word count stats:\n",
      " count    41873.000000\n",
      "mean       122.008860\n",
      "std        169.185182\n",
      "min          1.000000\n",
      "25%         23.000000\n",
      "50%         71.000000\n",
      "75%        152.000000\n",
      "max       5248.000000\n",
      "Name: word_count, dtype: float64\n",
      "\n",
      "Sentence count stats:\n",
      " count    41873.000000\n",
      "mean         7.242638\n",
      "std          9.910515\n",
      "min          1.000000\n",
      "25%          2.000000\n",
      "50%          5.000000\n",
      "75%          9.000000\n",
      "max        300.000000\n",
      "Name: sentence_count, dtype: float64\n"
     ]
    }
   ],
   "source": [
    "data_inspector.set_strategy(TextCountStatsInspectionStrategy())\n",
    "data_inspector.execute_inspection(df)"
   ]
  },
  {
   "cell_type": "code",
   "execution_count": 8,
   "id": "a047a0de",
   "metadata": {},
   "outputs": [
    {
     "name": "stdout",
     "output_type": "stream",
     "text": [
      "                                                    text     label  \\\n",
      "0      He said he had not felt that way before, sugge...      mild   \n",
      "1      Hey there r/assistance, Not sure if this is th...   minimum   \n",
      "2      My mom then hit me with the newspaper and it s...   minimum   \n",
      "3      until i met my new boyfriend, he is amazing, h...      mild   \n",
      "4      October is Domestic Violence Awareness Month a...  moderate   \n",
      "...                                                  ...       ...   \n",
      "41868  You cannot fix your children and you cannot pl...   minimum   \n",
      "41869  Awakenings App - NEW CONTENT now available!   ...   minimum   \n",
      "41870  Spend less time worrying about what others thi...   minimum   \n",
      "41871  Trust is the belief that you can get through a...   minimum   \n",
      "41872  It is not your duty to change the minds of oth...   minimum   \n",
      "\n",
      "       char_count  word_count  sentence_count  \n",
      "0             571         113               4  \n",
      "1             588         108               3  \n",
      "2             847         166               5  \n",
      "3            1277         273               4  \n",
      "4             533          89               5  \n",
      "...           ...         ...             ...  \n",
      "41868         132          25               2  \n",
      "41869         293          28               3  \n",
      "41870         113          15               2  \n",
      "41871         106          20               1  \n",
      "41872         115          21               2  \n",
      "\n",
      "[41873 rows x 5 columns]\n"
     ]
    }
   ],
   "source": [
    "print(df)"
   ]
  },
  {
   "cell_type": "code",
   "execution_count": 9,
   "id": "7d8c10b4",
   "metadata": {},
   "outputs": [
    {
     "name": "stdout",
     "output_type": "stream",
     "text": [
      "\n",
      "Mode (character count): 37\n",
      "\n",
      "Median (character count): 360.0\n",
      "\n",
      "Mean (character count): 620.6198027368471\n",
      "\n",
      "Mode (word count): 7\n",
      "\n",
      "Median (word count): 71.0\n",
      "\n",
      "Mean (word count): 122.00886012466268\n",
      "\n",
      "Mode (Sentence count): 1\n",
      "\n",
      "Median (Sentence count): 5.0\n",
      "\n",
      "Mean (Sentence count): 7.242638454373941\n"
     ]
    }
   ],
   "source": [
    "data_inspector.set_strategy(CountStatsInspectionStrategy())\n",
    "data_inspector.execute_inspection(df)"
   ]
  }
 ],
 "metadata": {
  "kernelspec": {
   "display_name": "venv",
   "language": "python",
   "name": "python3"
  },
  "language_info": {
   "codemirror_mode": {
    "name": "ipython",
    "version": 3
   },
   "file_extension": ".py",
   "mimetype": "text/x-python",
   "name": "python",
   "nbconvert_exporter": "python",
   "pygments_lexer": "ipython3",
   "version": "3.9.0"
  }
 },
 "nbformat": 4,
 "nbformat_minor": 5
}
