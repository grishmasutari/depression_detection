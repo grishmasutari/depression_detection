{
 "cells": [
  {
   "cell_type": "code",
   "execution_count": 1,
   "id": "4a917b81",
   "metadata": {},
   "outputs": [],
   "source": [
    "import pandas as pd\n",
    "import tensorflow as tf\n",
    "from tensorflow.keras.models import Sequential\n",
    "from tensorflow.keras.layers import Dense, Dropout\n",
    "from tensorflow.keras.utils import to_categorical\n",
    "from sklearn.preprocessing import StandardScaler"
   ]
  },
  {
   "cell_type": "code",
   "execution_count": 3,
   "id": "1388c7b0",
   "metadata": {},
   "outputs": [],
   "source": [
    "# ----------------------------\n",
    "# Load the balanced datasets\n",
    "# ----------------------------\n",
    "train_df = pd.read_csv(\"data/balanced_dataset.csv\")\n",
    "test_df = pd.read_csv(\"data/test_set.csv\")"
   ]
  },
  {
   "cell_type": "code",
   "execution_count": 4,
   "id": "29d3a65e",
   "metadata": {},
   "outputs": [],
   "source": [
    "X_train = train_df.drop(columns=['label'])\n",
    "y_train = train_df['label']\n",
    "X_test = test_df.drop(columns=['label'])\n",
    "y_test = test_df['label']"
   ]
  },
  {
   "cell_type": "code",
   "execution_count": 5,
   "id": "046bba62",
   "metadata": {},
   "outputs": [],
   "source": [
    "# ----------------------------\n",
    "# Normalize features\n",
    "# ----------------------------\n",
    "scaler = StandardScaler()\n",
    "X_train_scaled = scaler.fit_transform(X_train)\n",
    "X_test_scaled = scaler.transform(X_test)"
   ]
  },
  {
   "cell_type": "code",
   "execution_count": 6,
   "id": "1bc62913",
   "metadata": {},
   "outputs": [],
   "source": [
    "# ----------------------------\n",
    "# Convert labels to categorical (for softmax output)\n",
    "# ----------------------------\n",
    "y_train_cat = to_categorical(y_train)\n",
    "y_test_cat = to_categorical(y_test)"
   ]
  },
  {
   "cell_type": "code",
   "execution_count": 7,
   "id": "6ee9c455",
   "metadata": {},
   "outputs": [],
   "source": [
    "# ----------------------------\n",
    "# Build MLP model\n",
    "# ----------------------------\n",
    "model = Sequential([\n",
    "    Dense(256, activation='relu', input_shape=(X_train_scaled.shape[1],)),\n",
    "    Dropout(0.3),\n",
    "    Dense(128, activation='relu'),\n",
    "    Dropout(0.3),\n",
    "    Dense(2, activation='softmax')\n",
    "])"
   ]
  },
  {
   "cell_type": "code",
   "execution_count": 8,
   "id": "43f1de2f",
   "metadata": {},
   "outputs": [],
   "source": [
    "model.compile(optimizer='adam', loss='categorical_crossentropy', metrics=['accuracy'])"
   ]
  },
  {
   "cell_type": "code",
   "execution_count": 9,
   "id": "1ebb6026",
   "metadata": {},
   "outputs": [
    {
     "name": "stdout",
     "output_type": "stream",
     "text": [
      "Epoch 1/10\n",
      "783/783 [==============================] - 8s 7ms/step - loss: 0.4055 - accuracy: 0.8187 - val_loss: 0.4811 - val_accuracy: 0.8214\n",
      "Epoch 2/10\n",
      "783/783 [==============================] - 5s 6ms/step - loss: 0.3129 - accuracy: 0.8673 - val_loss: 0.4734 - val_accuracy: 0.8232\n",
      "Epoch 3/10\n",
      "783/783 [==============================] - 5s 6ms/step - loss: 0.2739 - accuracy: 0.8853 - val_loss: 0.3880 - val_accuracy: 0.8307\n",
      "Epoch 4/10\n",
      "783/783 [==============================] - 6s 7ms/step - loss: 0.2455 - accuracy: 0.8975 - val_loss: 0.4032 - val_accuracy: 0.8337\n",
      "Epoch 5/10\n",
      "783/783 [==============================] - 5s 7ms/step - loss: 0.2264 - accuracy: 0.9056 - val_loss: 0.3501 - val_accuracy: 0.8322\n",
      "Epoch 6/10\n",
      "783/783 [==============================] - 5s 7ms/step - loss: 0.2131 - accuracy: 0.9094 - val_loss: 0.3671 - val_accuracy: 0.8290\n",
      "Epoch 7/10\n",
      "783/783 [==============================] - 7s 9ms/step - loss: 0.2038 - accuracy: 0.9132 - val_loss: 0.3669 - val_accuracy: 0.8291\n",
      "Epoch 8/10\n",
      "783/783 [==============================] - 6s 7ms/step - loss: 0.1954 - accuracy: 0.9157 - val_loss: 0.3620 - val_accuracy: 0.8311\n",
      "Epoch 9/10\n",
      "783/783 [==============================] - 6s 8ms/step - loss: 0.1889 - accuracy: 0.9185 - val_loss: 0.3725 - val_accuracy: 0.8287\n",
      "Epoch 10/10\n",
      "783/783 [==============================] - 6s 8ms/step - loss: 0.1830 - accuracy: 0.9221 - val_loss: 0.3850 - val_accuracy: 0.8339\n"
     ]
    },
    {
     "data": {
      "text/plain": [
       "<keras.src.callbacks.History at 0x17c2543a520>"
      ]
     },
     "execution_count": 9,
     "metadata": {},
     "output_type": "execute_result"
    }
   ],
   "source": [
    "# ----------------------------\n",
    "# Train the model\n",
    "# ----------------------------\n",
    "model.fit(X_train_scaled, y_train_cat, epochs=10, batch_size=64, validation_data=(X_test_scaled, y_test_cat))"
   ]
  },
  {
   "cell_type": "code",
   "execution_count": 10,
   "id": "ece575cf",
   "metadata": {},
   "outputs": [
    {
     "name": "stdout",
     "output_type": "stream",
     "text": [
      "Test Accuracy: 0.8339\n"
     ]
    }
   ],
   "source": [
    "# ----------------------------\n",
    "# Evaluate\n",
    "# ----------------------------\n",
    "loss, accuracy = model.evaluate(X_test_scaled, y_test_cat, verbose=0)\n",
    "print(f\"Test Accuracy: {accuracy:.4f}\")"
   ]
  }
 ],
 "metadata": {
  "kernelspec": {
   "display_name": "venv",
   "language": "python",
   "name": "python3"
  },
  "language_info": {
   "codemirror_mode": {
    "name": "ipython",
    "version": 3
   },
   "file_extension": ".py",
   "mimetype": "text/x-python",
   "name": "python",
   "nbconvert_exporter": "python",
   "pygments_lexer": "ipython3",
   "version": "3.9.0"
  }
 },
 "nbformat": 4,
 "nbformat_minor": 5
}
