{
 "cells": [
  {
   "cell_type": "code",
   "execution_count": 11,
   "id": "4a917b81",
   "metadata": {},
   "outputs": [],
   "source": [
    "import pandas as pd\n",
    "import tensorflow as tf\n",
    "from tensorflow.keras.models import Sequential\n",
    "from tensorflow.keras.layers import Dense, Dropout\n",
    "from tensorflow.keras.utils import to_categorical\n",
    "from sklearn.preprocessing import StandardScaler\n",
    "from sklearn.metrics import confusion_matrix, ConfusionMatrixDisplay\n",
    "import numpy as np\n",
    "import matplotlib.pyplot as plt"
   ]
  },
  {
   "cell_type": "code",
   "execution_count": 2,
   "id": "1388c7b0",
   "metadata": {},
   "outputs": [],
   "source": [
    "# ----------------------------\n",
    "# Load the balanced datasets\n",
    "# ----------------------------\n",
    "train_df = pd.read_csv(\"data/balanced_dataset.csv\")\n",
    "test_df = pd.read_csv(\"data/test_set.csv\")"
   ]
  },
  {
   "cell_type": "code",
   "execution_count": 3,
   "id": "29d3a65e",
   "metadata": {},
   "outputs": [],
   "source": [
    "X_train = train_df.drop(columns=['label'])\n",
    "y_train = train_df['label']\n",
    "X_test = test_df.drop(columns=['label'])\n",
    "y_test = test_df['label']"
   ]
  },
  {
   "cell_type": "code",
   "execution_count": 4,
   "id": "046bba62",
   "metadata": {},
   "outputs": [],
   "source": [
    "# ----------------------------\n",
    "# Normalize features\n",
    "# ----------------------------\n",
    "scaler = StandardScaler()\n",
    "X_train_scaled = scaler.fit_transform(X_train)\n",
    "X_test_scaled = scaler.transform(X_test)"
   ]
  },
  {
   "cell_type": "code",
   "execution_count": 5,
   "id": "1bc62913",
   "metadata": {},
   "outputs": [],
   "source": [
    "# ----------------------------\n",
    "# Convert labels to categorical (for softmax output)\n",
    "# ----------------------------\n",
    "y_train_cat = to_categorical(y_train)\n",
    "y_test_cat = to_categorical(y_test)"
   ]
  },
  {
   "cell_type": "code",
   "execution_count": 6,
   "id": "6ee9c455",
   "metadata": {},
   "outputs": [],
   "source": [
    "# ----------------------------\n",
    "# Build MLP model\n",
    "# ----------------------------\n",
    "model = Sequential([\n",
    "    Dense(256, activation='relu', input_shape=(X_train_scaled.shape[1],)),\n",
    "    Dropout(0.3),\n",
    "    Dense(128, activation='relu'),\n",
    "    Dropout(0.3),\n",
    "    Dense(2, activation='softmax')\n",
    "])"
   ]
  },
  {
   "cell_type": "code",
   "execution_count": 7,
   "id": "43f1de2f",
   "metadata": {},
   "outputs": [],
   "source": [
    "model.compile(optimizer='adam', loss='categorical_crossentropy', metrics=['accuracy'])"
   ]
  },
  {
   "cell_type": "code",
   "execution_count": 8,
   "id": "1ebb6026",
   "metadata": {},
   "outputs": [
    {
     "name": "stdout",
     "output_type": "stream",
     "text": [
      "Epoch 1/10\n",
      "783/783 [==============================] - 15s 11ms/step - loss: 0.4116 - accuracy: 0.8157 - val_loss: 0.5122 - val_accuracy: 0.8135\n",
      "Epoch 2/10\n",
      "783/783 [==============================] - 8s 10ms/step - loss: 0.3137 - accuracy: 0.8667 - val_loss: 0.4445 - val_accuracy: 0.8267\n",
      "Epoch 3/10\n",
      "783/783 [==============================] - 8s 10ms/step - loss: 0.2735 - accuracy: 0.8856 - val_loss: 0.3871 - val_accuracy: 0.8285\n",
      "Epoch 4/10\n",
      "783/783 [==============================] - 8s 10ms/step - loss: 0.2480 - accuracy: 0.8961 - val_loss: 0.3645 - val_accuracy: 0.8301\n",
      "Epoch 5/10\n",
      "783/783 [==============================] - 7s 9ms/step - loss: 0.2300 - accuracy: 0.9030 - val_loss: 0.3756 - val_accuracy: 0.8335\n",
      "Epoch 6/10\n",
      "783/783 [==============================] - 8s 11ms/step - loss: 0.2162 - accuracy: 0.9084 - val_loss: 0.3682 - val_accuracy: 0.8331\n",
      "Epoch 7/10\n",
      "783/783 [==============================] - 14s 17ms/step - loss: 0.2076 - accuracy: 0.9115 - val_loss: 0.3616 - val_accuracy: 0.8274\n",
      "Epoch 8/10\n",
      "783/783 [==============================] - 10s 13ms/step - loss: 0.1970 - accuracy: 0.9154 - val_loss: 0.3723 - val_accuracy: 0.8315\n",
      "Epoch 9/10\n",
      "783/783 [==============================] - 15s 19ms/step - loss: 0.1918 - accuracy: 0.9184 - val_loss: 0.3745 - val_accuracy: 0.8317\n",
      "Epoch 10/10\n",
      "783/783 [==============================] - 17s 22ms/step - loss: 0.1850 - accuracy: 0.9198 - val_loss: 0.3873 - val_accuracy: 0.8323\n"
     ]
    },
    {
     "data": {
      "text/plain": [
       "<keras.src.callbacks.History at 0x1ee9ab6e040>"
      ]
     },
     "execution_count": 8,
     "metadata": {},
     "output_type": "execute_result"
    }
   ],
   "source": [
    "# ----------------------------\n",
    "# Train the model\n",
    "# ----------------------------\n",
    "model.fit(X_train_scaled, y_train_cat, epochs=10, batch_size=64, validation_data=(X_test_scaled, y_test_cat))"
   ]
  },
  {
   "cell_type": "code",
   "execution_count": 9,
   "id": "ece575cf",
   "metadata": {},
   "outputs": [
    {
     "name": "stdout",
     "output_type": "stream",
     "text": [
      "Test Accuracy: 0.8323\n"
     ]
    }
   ],
   "source": [
    "# ----------------------------\n",
    "# Evaluate\n",
    "# ----------------------------\n",
    "loss, accuracy = model.evaluate(X_test_scaled, y_test_cat, verbose=0)\n",
    "print(f\"Test Accuracy: {accuracy:.4f}\")"
   ]
  },
  {
   "cell_type": "code",
   "execution_count": 14,
   "id": "272f8f4b",
   "metadata": {},
   "outputs": [
    {
     "name": "stdout",
     "output_type": "stream",
     "text": [
      "262/262 [==============================] - 1s 4ms/step\n"
     ]
    },
    {
     "data": {
      "image/png": "[encoded data removed]",
      "text/plain": [
       "<Figure size 640x480 with 2 Axes>"
      ]
     },
     "metadata": {},
     "output_type": "display_data"
    }
   ],
   "source": [
    "# ----------------------------\n",
    "# Get predicted class labels for test data\n",
    "# ----------------------------\n",
    "y_pred_probs = model.predict(X_test)\n",
    "y_pred_classes = np.argmax(y_pred_probs, axis=1)\n",
    "y_true_classes = np.argmax(y_test_cat, axis=1)\n",
    "\n",
    "cm = confusion_matrix(y_true_classes, y_pred_classes)\n",
    "disp = ConfusionMatrixDisplay(confusion_matrix=cm, display_labels=[\"NO\", \"YES\"])\n",
    "disp.plot(cmap='Blues')\n",
    "plt.title(\"Confusion Matrix - MLP\")\n",
    "plt.show()"
   ]
  }
 ],
 "metadata": {
  "kernelspec": {
   "display_name": "venv",
   "language": "python",
   "name": "python3"
  },
  "language_info": {
   "codemirror_mode": {
    "name": "ipython",
    "version": 3
   },
   "file_extension": ".py",
   "mimetype": "text/x-python",
   "name": "python",
   "nbconvert_exporter": "python",
   "pygments_lexer": "ipython3",
   "version": "3.9.0"
  }
 },
 "nbformat": 4,
 "nbformat_minor": 5
}
