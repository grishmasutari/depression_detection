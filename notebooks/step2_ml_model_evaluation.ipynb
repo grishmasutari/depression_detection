{
 "cells": [
  {
   "cell_type": "code",
   "execution_count": 1,
   "id": "7f138e2a",
   "metadata": {},
   "outputs": [],
   "source": [
    "import pandas as pd\n",
    "from sklearn.model_selection import StratifiedKFold, cross_val_score\n",
    "from sklearn.tree import DecisionTreeClassifier\n",
    "from sklearn.svm import LinearSVC\n",
    "from sklearn.neighbors import KNeighborsClassifier\n",
    "from sklearn.ensemble import RandomForestClassifier\n",
    "from sklearn.preprocessing import LabelEncoder"
   ]
  },
  {
   "cell_type": "code",
   "execution_count": 2,
   "id": "59f7bfc1",
   "metadata": {},
   "outputs": [],
   "source": [
    "df = pd.read_csv(\"data/feature_extracted_dataset.csv\")"
   ]
  },
  {
   "cell_type": "code",
   "execution_count": 3,
   "id": "2e29006b",
   "metadata": {},
   "outputs": [],
   "source": [
    "# Separate features and target\n",
    "X = df.drop(columns=['binary_label'])\n",
    "y = LabelEncoder().fit_transform(df['binary_label'])  # YES -> 1, NO -> 0"
   ]
  },
  {
   "cell_type": "code",
   "execution_count": 4,
   "id": "5f2d7365",
   "metadata": {},
   "outputs": [],
   "source": [
    "# Define models\n",
    "models = {\n",
    "    'Decision Tree': DecisionTreeClassifier(random_state=42),\n",
    "    'Linear SVM': LinearSVC(max_iter=10000, random_state=42),\n",
    "    'KNN': KNeighborsClassifier(),\n",
    "    'Random Forest': RandomForestClassifier(random_state=42)\n",
    "}"
   ]
  },
  {
   "cell_type": "code",
   "execution_count": 5,
   "id": "67ff44f0",
   "metadata": {},
   "outputs": [],
   "source": [
    "NUM_FOLDS = 3"
   ]
  },
  {
   "cell_type": "code",
   "execution_count": 6,
   "id": "b31b1bfe",
   "metadata": {},
   "outputs": [],
   "source": [
    "# Set up stratified cross-validation\n",
    "cv = StratifiedKFold(n_splits=NUM_FOLDS, shuffle=True, random_state=42)"
   ]
  },
  {
   "cell_type": "code",
   "execution_count": 7,
   "id": "1d79c6a7",
   "metadata": {},
   "outputs": [],
   "source": [
    "# Evaluate models\n",
    "def evaluate_model(name, model):\n",
    "    accuracy = cross_val_score(model, X, y, cv=cv, scoring='accuracy').mean()\n",
    "    precision = cross_val_score(model, X, y, cv=cv, scoring='precision').mean()\n",
    "    recall = cross_val_score(model, X, y, cv=cv, scoring='recall').mean()\n",
    "    f1 = cross_val_score(model, X, y, cv=cv, scoring='f1').mean()\n",
    "    return {\n",
    "        'Model': name,\n",
    "        'Accuracy': accuracy,\n",
    "        'Precision': precision,\n",
    "        'Recall': recall,\n",
    "        'F1-Score': f1\n",
    "    }"
   ]
  },
  {
   "cell_type": "code",
   "execution_count": 8,
   "id": "3e29e3f6",
   "metadata": {},
   "outputs": [
    {
     "name": "stdout",
     "output_type": "stream",
     "text": [
      "\n",
      " Evaluating model: Decision Tree...\n",
      "✔️ Accuracy done for Decision Tree\n",
      "✔️ Precision done for Decision Tree\n",
      "✔️ Recall done for Decision Tree\n",
      "✔️ F1-score done for Decision Tree\n",
      "\n",
      " Evaluating model: Linear SVM...\n",
      "✔️ Accuracy done for Linear SVM\n",
      "✔️ Precision done for Linear SVM\n",
      "✔️ Recall done for Linear SVM\n",
      "✔️ F1-score done for Linear SVM\n",
      "\n",
      " Evaluating model: KNN...\n",
      "✔️ Accuracy done for KNN\n",
      "✔️ Precision done for KNN\n",
      "✔️ Recall done for KNN\n",
      "✔️ F1-score done for KNN\n",
      "\n",
      " Evaluating model: Random Forest...\n",
      "✔️ Accuracy done for Random Forest\n",
      "✔️ Precision done for Random Forest\n",
      "✔️ Recall done for Random Forest\n",
      "✔️ F1-score done for Random Forest\n",
      "\n",
      "All models evaluated.\n",
      "           Model  Accuracy  Precision    Recall  F1-Score\n",
      "0  Decision Tree  0.763731   0.849136  0.831970  0.840452\n",
      "1     Linear SVM  0.826728   0.867100  0.907442  0.886806\n",
      "2            KNN  0.783989   0.836829  0.883551  0.859526\n",
      "3  Random Forest  0.801166   0.845676  0.898115  0.871086\n"
     ]
    }
   ],
   "source": [
    "# Run evaluation\n",
    "results = []\n",
    "\n",
    "for name, model in models.items():\n",
    "    print(f\"\\n Evaluating model: {name}...\")\n",
    "    \n",
    "    accuracy = cross_val_score(model, X, y, cv=cv, scoring='accuracy').mean()\n",
    "    print(f\"✔️ Accuracy done for {name}\")\n",
    "    \n",
    "    precision = cross_val_score(model, X, y, cv=cv, scoring='precision').mean()\n",
    "    print(f\"✔️ Precision done for {name}\")\n",
    "    \n",
    "    recall = cross_val_score(model, X, y, cv=cv, scoring='recall').mean()\n",
    "    print(f\"✔️ Recall done for {name}\")\n",
    "    \n",
    "    f1 = cross_val_score(model, X, y, cv=cv, scoring='f1').mean()\n",
    "    print(f\"✔️ F1-score done for {name}\")\n",
    "    \n",
    "    results.append({\n",
    "        'Model': name,\n",
    "        'Accuracy': accuracy,\n",
    "        'Precision': precision,\n",
    "        'Recall': recall,\n",
    "        'F1-Score': f1\n",
    "    })\n",
    "\n",
    "# Convert to DataFrame\n",
    "results_df = pd.DataFrame(results)\n",
    "print(\"\\nAll models evaluated.\")\n",
    "print(results_df)\n"
   ]
  },
  {
   "cell_type": "code",
   "execution_count": 9,
   "id": "9b83c809",
   "metadata": {},
   "outputs": [
    {
     "name": "stdout",
     "output_type": "stream",
     "text": [
      "           Model  Accuracy  Precision    Recall  F1-Score\n",
      "0  Decision Tree  0.763731   0.849136  0.831970  0.840452\n",
      "1     Linear SVM  0.826728   0.867100  0.907442  0.886806\n",
      "2            KNN  0.783989   0.836829  0.883551  0.859526\n",
      "3  Random Forest  0.801166   0.845676  0.898115  0.871086\n"
     ]
    }
   ],
   "source": [
    "# Show results\n",
    "print(results_df)"
   ]
  }
 ],
 "metadata": {
  "kernelspec": {
   "display_name": "venv",
   "language": "python",
   "name": "python3"
  },
  "language_info": {
   "codemirror_mode": {
    "name": "ipython",
    "version": 3
   },
   "file_extension": ".py",
   "mimetype": "text/x-python",
   "name": "python",
   "nbconvert_exporter": "python",
   "pygments_lexer": "ipython3",
   "version": "3.9.0"
  }
 },
 "nbformat": 4,
 "nbformat_minor": 5
}
