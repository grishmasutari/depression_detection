{
 "cells": [
  {
   "cell_type": "code",
   "execution_count": 27,
   "id": "5b65d75b",
   "metadata": {},
   "outputs": [],
   "source": [
    "import pandas as pd\n",
    "import numpy as np\n",
    "import json\n",
    "import tensorflow as tf\n",
    "from sklearn.preprocessing import LabelEncoder\n",
    "from tensorflow.keras.preprocessing.text import Tokenizer\n",
    "from tensorflow.keras.preprocessing.sequence import pad_sequences\n",
    "from tensorflow.keras.models import Sequential\n",
    "from tensorflow.keras.layers import Embedding, LSTM, Dense, Dropout\n",
    "from tensorflow.keras.utils import to_categorical\n",
    "from sklearn.model_selection import train_test_split\n",
    "from sklearn.metrics import confusion_matrix, ConfusionMatrixDisplay\n",
    "from imblearn.over_sampling import SMOTE\n",
    "import matplotlib.pyplot as plt"
   ]
  },
  {
   "cell_type": "code",
   "execution_count": 2,
   "id": "fe4ae9b2",
   "metadata": {},
   "outputs": [],
   "source": [
    "# ----------------------------\n",
    "# Load datasets\n",
    "# ----------------------------\n",
    "df = pd.read_csv(\"data/Depression_Severity_Levels_Dataset.csv\")"
   ]
  },
  {
   "cell_type": "code",
   "execution_count": 3,
   "id": "c34c533d",
   "metadata": {},
   "outputs": [],
   "source": [
    "df = df.dropna(subset=[\"text\"])  # remove nulls\n",
    "\n",
    "# Binary label conversion\n",
    "df['binary_label'] = df['label'].apply(lambda x: 'NO' if x.strip().lower() == 'minimum' else 'YES')\n",
    "\n",
    "# Label encoding\n",
    "le = LabelEncoder()\n",
    "df['label_encoded'] = le.fit_transform(df['binary_label'])  # YES=1, NO=0"
   ]
  },
  {
   "cell_type": "code",
   "execution_count": 4,
   "id": "a1e47fe3",
   "metadata": {},
   "outputs": [],
   "source": [
    "# Tokenization and padding\n",
    "MAX_NUM_WORDS = 10000\n",
    "MAX_SEQUENCE_LENGTH = 100"
   ]
  },
  {
   "cell_type": "code",
   "execution_count": 5,
   "id": "e03a4346",
   "metadata": {},
   "outputs": [],
   "source": [
    "tokenizer = Tokenizer(num_words=MAX_NUM_WORDS, oov_token=\"<OOV>\")\n",
    "tokenizer.fit_on_texts(df['text'])\n",
    "\n",
    "sequences = tokenizer.texts_to_sequences(df['text'])\n",
    "padded_sequences = pad_sequences(sequences, maxlen=MAX_SEQUENCE_LENGTH, padding='post')"
   ]
  },
  {
   "cell_type": "code",
   "execution_count": 6,
   "id": "ba2b3f3b",
   "metadata": {},
   "outputs": [
    {
     "name": "stderr",
     "output_type": "stream",
     "text": [
      "g:\\Depression_Detection\\venv\\lib\\site-packages\\sklearn\\base.py:474: FutureWarning: `BaseEstimator._validate_data` is deprecated in 1.6 and will be removed in 1.7. Use `sklearn.utils.validation.validate_data` instead. This function becomes public and is part of the scikit-learn developer API.\n",
      "  warnings.warn(\n"
     ]
    }
   ],
   "source": [
    "# ----------------------------\n",
    "# Apply SMOTE\n",
    "# ----------------------------\n",
    "smote = SMOTE(random_state=42)\n",
    "X_resampled, y_resampled = smote.fit_resample(padded_sequences, df['label_encoded'])"
   ]
  },
  {
   "cell_type": "code",
   "execution_count": 7,
   "id": "4a360a19",
   "metadata": {},
   "outputs": [],
   "source": [
    "# ----------------------------\n",
    "# Save resampled data\n",
    "# ----------------------------\n",
    "# Convert back to DataFrame\n",
    "resampled_df = pd.DataFrame(X_resampled)\n",
    "resampled_df['label'] = y_resampled\n",
    "resampled_df['label'] = resampled_df['label'].map({0: 'NO', 1: 'YES'})"
   ]
  },
  {
   "cell_type": "code",
   "execution_count": null,
   "id": "9ecd4028",
   "metadata": {},
   "outputs": [
    {
     "name": "stdout",
     "output_type": "stream",
     "text": [
      "✅ SMOTE-balanced padded dataset saved as smote_padded_dataset.csv\n"
     ]
    }
   ],
   "source": [
    "# Save it\n",
    "resampled_df.to_csv(\"data/smote_padded_dataset.csv\", index=False)\n",
    "print(\"✅ SMOTE-balanced padded dataset saved as smote_padded_dataset.csv\")"
   ]
  },
  {
   "cell_type": "code",
   "execution_count": 10,
   "id": "4531c251",
   "metadata": {},
   "outputs": [
    {
     "data": {
      "text/plain": [
       "(62620, 101)"
      ]
     },
     "execution_count": 10,
     "metadata": {},
     "output_type": "execute_result"
    }
   ],
   "source": [
    "resampled_df.shape"
   ]
  },
  {
   "cell_type": "code",
   "execution_count": 12,
   "id": "5522a65e",
   "metadata": {},
   "outputs": [],
   "source": [
    "# ----------------------------\n",
    "# Load padded and SMOTE-balanced dataset\n",
    "# ----------------------------\n",
    "df = pd.read_csv(\"data/smote_padded_dataset.csv\")"
   ]
  },
  {
   "cell_type": "code",
   "execution_count": 13,
   "id": "e12f8b64",
   "metadata": {},
   "outputs": [],
   "source": [
    "# Separate features and labels\n",
    "X = df.drop(columns=['label']).values\n",
    "y = df['label'].map({'NO': 0, 'YES': 1}).values"
   ]
  },
  {
   "cell_type": "code",
   "execution_count": 16,
   "id": "e567c3e4",
   "metadata": {},
   "outputs": [],
   "source": [
    "# One-hot encode labels\n",
    "y_cat = to_categorical(y)"
   ]
  },
  {
   "cell_type": "code",
   "execution_count": 17,
   "id": "787069f8",
   "metadata": {},
   "outputs": [],
   "source": [
    "# ----------------------------\n",
    "# Train/test split\n",
    "# ----------------------------\n",
    "X_train, X_test, y_train, y_test = train_test_split(\n",
    "    X, y_cat, test_size=0.2, random_state=42)"
   ]
  },
  {
   "cell_type": "code",
   "execution_count": 18,
   "id": "33811202",
   "metadata": {},
   "outputs": [],
   "source": [
    "# ----------------------------\n",
    "# LSTM model\n",
    "# ----------------------------\n",
    "MAX_NUM_WORDS = 10000\n",
    "MAX_SEQUENCE_LENGTH = X.shape[1]\n",
    "\n",
    "model = Sequential([\n",
    "    Embedding(input_dim=MAX_NUM_WORDS, output_dim=64, input_length=MAX_SEQUENCE_LENGTH),\n",
    "    LSTM(128),\n",
    "    Dropout(0.3),\n",
    "    Dense(64, activation='relu'),\n",
    "    Dropout(0.3),\n",
    "    Dense(2, activation='softmax')\n",
    "])\n",
    "\n",
    "model.compile(loss='categorical_crossentropy', optimizer='adam', metrics=['accuracy'])"
   ]
  },
  {
   "cell_type": "code",
   "execution_count": 19,
   "id": "a7f97cbe",
   "metadata": {},
   "outputs": [
    {
     "name": "stdout",
     "output_type": "stream",
     "text": [
      "Epoch 1/5\n",
      "783/783 [==============================] - 157s 196ms/step - loss: 0.4429 - accuracy: 0.8078 - val_loss: 0.3268 - val_accuracy: 0.8572\n",
      "Epoch 2/5\n",
      "783/783 [==============================] - 154s 196ms/step - loss: 0.3184 - accuracy: 0.8679 - val_loss: 0.2933 - val_accuracy: 0.8825\n",
      "Epoch 3/5\n",
      "783/783 [==============================] - 158s 201ms/step - loss: 0.2464 - accuracy: 0.8951 - val_loss: 0.2744 - val_accuracy: 0.8916\n",
      "Epoch 4/5\n",
      "783/783 [==============================] - 161s 206ms/step - loss: 0.2138 - accuracy: 0.9071 - val_loss: 0.2552 - val_accuracy: 0.8943\n",
      "Epoch 5/5\n",
      "783/783 [==============================] - 158s 202ms/step - loss: 0.1806 - accuracy: 0.9193 - val_loss: 0.2539 - val_accuracy: 0.8936\n"
     ]
    },
    {
     "data": {
      "text/plain": [
       "<keras.src.callbacks.History at 0x190ca4624c0>"
      ]
     },
     "execution_count": 19,
     "metadata": {},
     "output_type": "execute_result"
    }
   ],
   "source": [
    "# ----------------------------\n",
    "# Train model\n",
    "# ----------------------------\n",
    "model.fit(X_train, y_train, validation_data=(X_test, y_test),\n",
    "          epochs=5, batch_size=64)"
   ]
  },
  {
   "cell_type": "code",
   "execution_count": 20,
   "id": "df00d607",
   "metadata": {},
   "outputs": [
    {
     "name": "stdout",
     "output_type": "stream",
     "text": [
      "Trained LSTM model saved as lstm_model_smote.keras\n"
     ]
    }
   ],
   "source": [
    "# ----------------------------\n",
    "# Save model\n",
    "# ----------------------------\n",
    "model.save(\"lstm_model_smote.keras\")\n",
    "print(\"Trained LSTM model saved as lstm_model_smote.keras\")"
   ]
  },
  {
   "cell_type": "code",
   "execution_count": 21,
   "id": "83480cae",
   "metadata": {},
   "outputs": [
    {
     "name": "stdout",
     "output_type": "stream",
     "text": [
      "392/392 [==============================] - 38s 93ms/step\n"
     ]
    }
   ],
   "source": [
    "# Predict with your trained LSTM model\n",
    "y_pred_probs = model.predict(X_test)\n",
    "y_pred_classes = np.argmax(y_pred_probs, axis=1)\n",
    "\n",
    "# Get true labels\n",
    "y_true_classes = np.argmax(y_test, axis=1)"
   ]
  },
  {
   "cell_type": "code",
   "execution_count": 22,
   "id": "2ecc55fe",
   "metadata": {},
   "outputs": [
    {
     "data": {
      "image/png": "[encoded data removed]",
      "text/plain": [
       "<Figure size 640x480 with 2 Axes>"
      ]
     },
     "metadata": {},
     "output_type": "display_data"
    }
   ],
   "source": [
    "# Generate and display the confusion matrix\n",
    "cm = confusion_matrix(y_true_classes, y_pred_classes)\n",
    "disp = ConfusionMatrixDisplay(confusion_matrix=cm, display_labels=[\"NO\", \"YES\"])\n",
    "disp.plot(cmap='Blues')\n",
    "plt.title(\"Confusion Matrix - LSTM\")\n",
    "plt.show()"
   ]
  },
  {
   "cell_type": "code",
   "execution_count": 23,
   "id": "3e3e8515",
   "metadata": {},
   "outputs": [
    {
     "name": "stdout",
     "output_type": "stream",
     "text": [
      "\n",
      " LSTM Test Accuracy: 0.8936\n"
     ]
    }
   ],
   "source": [
    "# ----------------------------\n",
    "# Evaluate\n",
    "# ----------------------------\n",
    "loss, acc = model.evaluate(X_test, y_test, verbose=0)\n",
    "print(f\"\\n LSTM Test Accuracy: {acc:.4f}\")"
   ]
  },
  {
   "cell_type": "code",
   "execution_count": 32,
   "id": "9fee478e",
   "metadata": {},
   "outputs": [
    {
     "name": "stdout",
     "output_type": "stream",
     "text": [
      "Counter({0: 6312, 1: 6212})\n"
     ]
    }
   ],
   "source": [
    "from collections import Counter\n",
    "print(Counter(np.argmax(y_test, axis=1)))"
   ]
  },
  {
   "cell_type": "code",
   "execution_count": 33,
   "id": "1c6439ce",
   "metadata": {},
   "outputs": [
    {
     "name": "stdout",
     "output_type": "stream",
     "text": [
      "              precision    recall  f1-score   support\n",
      "\n",
      "           0       0.90      0.89      0.89      6312\n",
      "           1       0.89      0.89      0.89      6212\n",
      "\n",
      "    accuracy                           0.89     12524\n",
      "   macro avg       0.89      0.89      0.89     12524\n",
      "weighted avg       0.89      0.89      0.89     12524\n",
      "\n"
     ]
    }
   ],
   "source": [
    "from sklearn.metrics import classification_report\n",
    "print(classification_report(np.argmax(y_test, axis=1), y_pred_classes))"
   ]
  },
  {
   "cell_type": "code",
   "execution_count": 24,
   "id": "4937426c",
   "metadata": {},
   "outputs": [],
   "source": [
    "new_text = [\"I feel hopeless and tired all the time.\"]"
   ]
  },
  {
   "cell_type": "code",
   "execution_count": 25,
   "id": "864723f6",
   "metadata": {},
   "outputs": [],
   "source": [
    "# ----------------------------\n",
    "# Preprocess using the same tokenizer and padding\n",
    "# ----------------------------\n",
    "sequence = tokenizer.texts_to_sequences(new_text)\n",
    "padded = pad_sequences(sequence, maxlen=MAX_SEQUENCE_LENGTH, padding='post')"
   ]
  },
  {
   "cell_type": "code",
   "execution_count": 28,
   "id": "7b01a644",
   "metadata": {},
   "outputs": [
    {
     "name": "stdout",
     "output_type": "stream",
     "text": [
      "1/1 [==============================] - 0s 40ms/step\n"
     ]
    }
   ],
   "source": [
    "# ----------------------------\n",
    "# Predict\n",
    "# ----------------------------\n",
    "pred = model.predict(padded)\n",
    "predicted_class = tf.argmax(pred, axis=1).numpy()[0]"
   ]
  },
  {
   "cell_type": "code",
   "execution_count": 29,
   "id": "24d8115a",
   "metadata": {},
   "outputs": [],
   "source": [
    "# Decode the label\n",
    "label = le.inverse_transform([predicted_class])[0]"
   ]
  },
  {
   "cell_type": "code",
   "execution_count": 30,
   "id": "106f19f7",
   "metadata": {},
   "outputs": [
    {
     "name": "stdout",
     "output_type": "stream",
     "text": [
      "Input: I feel hopeless and tired all the time.\n",
      "Predicted Class: YES (confidence = 0.5904)\n"
     ]
    }
   ],
   "source": [
    "print(f\"Input: {new_text[0]}\")\n",
    "print(f\"Predicted Class: {label} (confidence = {pred[0][predicted_class]:.4f})\")"
   ]
  },
  {
   "cell_type": "code",
   "execution_count": 31,
   "id": "d33ebfc9",
   "metadata": {},
   "outputs": [],
   "source": [
    "# Save tokenizer\n",
    "token_json = tokenizer.to_json()\n",
    "with open(\"tokenizer.json\", \"w\") as f:\n",
    "    f.write(token_json)"
   ]
  }
 ],
 "metadata": {
  "kernelspec": {
   "display_name": "venv",
   "language": "python",
   "name": "python3"
  },
  "language_info": {
   "codemirror_mode": {
    "name": "ipython",
    "version": 3
   },
   "file_extension": ".py",
   "mimetype": "text/x-python",
   "name": "python",
   "nbconvert_exporter": "python",
   "pygments_lexer": "ipython3",
   "version": "3.9.0"
  }
 },
 "nbformat": 4,
 "nbformat_minor": 5
}
