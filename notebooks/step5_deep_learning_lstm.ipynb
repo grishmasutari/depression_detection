{
 "cells": [
  {
   "cell_type": "code",
   "execution_count": 1,
   "id": "5b65d75b",
   "metadata": {},
   "outputs": [],
   "source": [
    "import pandas as pd\n",
    "from sklearn.model_selection import train_test_split\n",
    "from sklearn.preprocessing import LabelEncoder\n",
    "import tensorflow as tf\n",
    "from tensorflow.keras.preprocessing.text import Tokenizer\n",
    "from tensorflow.keras.preprocessing.sequence import pad_sequences\n",
    "from tensorflow.keras.models import Sequential\n",
    "from tensorflow.keras.layers import Embedding, LSTM, Dense, Dropout\n",
    "from tensorflow.keras.utils import to_categorical"
   ]
  },
  {
   "cell_type": "code",
   "execution_count": 3,
   "id": "fe4ae9b2",
   "metadata": {},
   "outputs": [
    {
     "data": {
      "text/html": [
       "<div>\n",
       "<style scoped>\n",
       "    .dataframe tbody tr th:only-of-type {\n",
       "        vertical-align: middle;\n",
       "    }\n",
       "\n",
       "    .dataframe tbody tr th {\n",
       "        vertical-align: top;\n",
       "    }\n",
       "\n",
       "    .dataframe thead th {\n",
       "        text-align: right;\n",
       "    }\n",
       "</style>\n",
       "<table border=\"1\" class=\"dataframe\">\n",
       "  <thead>\n",
       "    <tr style=\"text-align: right;\">\n",
       "      <th></th>\n",
       "      <th>text</th>\n",
       "      <th>label</th>\n",
       "    </tr>\n",
       "  </thead>\n",
       "  <tbody>\n",
       "    <tr>\n",
       "      <th>0</th>\n",
       "      <td>He said he had not felt that way before, sugge...</td>\n",
       "      <td>mild</td>\n",
       "    </tr>\n",
       "    <tr>\n",
       "      <th>1</th>\n",
       "      <td>Hey there r/assistance, Not sure if this is th...</td>\n",
       "      <td>minimum</td>\n",
       "    </tr>\n",
       "    <tr>\n",
       "      <th>2</th>\n",
       "      <td>My mom then hit me with the newspaper and it s...</td>\n",
       "      <td>minimum</td>\n",
       "    </tr>\n",
       "    <tr>\n",
       "      <th>3</th>\n",
       "      <td>until i met my new boyfriend, he is amazing, h...</td>\n",
       "      <td>mild</td>\n",
       "    </tr>\n",
       "    <tr>\n",
       "      <th>4</th>\n",
       "      <td>October is Domestic Violence Awareness Month a...</td>\n",
       "      <td>moderate</td>\n",
       "    </tr>\n",
       "  </tbody>\n",
       "</table>\n",
       "</div>"
      ],
      "text/plain": [
       "                                                text     label\n",
       "0  He said he had not felt that way before, sugge...      mild\n",
       "1  Hey there r/assistance, Not sure if this is th...   minimum\n",
       "2  My mom then hit me with the newspaper and it s...   minimum\n",
       "3  until i met my new boyfriend, he is amazing, h...      mild\n",
       "4  October is Domestic Violence Awareness Month a...  moderate"
      ]
     },
     "execution_count": 3,
     "metadata": {},
     "output_type": "execute_result"
    }
   ],
   "source": [
    "# ----------------------------\n",
    "# Load raw text dataset\n",
    "# ----------------------------\n",
    "df = pd.read_csv(\"data/Depression_Severity_Levels_Dataset.csv\")  # contains 'text' and 'label' columns\n",
    "df.head()"
   ]
  },
  {
   "cell_type": "code",
   "execution_count": 4,
   "id": "1647113a",
   "metadata": {},
   "outputs": [],
   "source": [
    "df = df.dropna(subset=['text'])"
   ]
  },
  {
   "cell_type": "code",
   "execution_count": 5,
   "id": "02a66377",
   "metadata": {},
   "outputs": [
    {
     "data": {
      "text/html": [
       "<div>\n",
       "<style scoped>\n",
       "    .dataframe tbody tr th:only-of-type {\n",
       "        vertical-align: middle;\n",
       "    }\n",
       "\n",
       "    .dataframe tbody tr th {\n",
       "        vertical-align: top;\n",
       "    }\n",
       "\n",
       "    .dataframe thead th {\n",
       "        text-align: right;\n",
       "    }\n",
       "</style>\n",
       "<table border=\"1\" class=\"dataframe\">\n",
       "  <thead>\n",
       "    <tr style=\"text-align: right;\">\n",
       "      <th></th>\n",
       "      <th>text</th>\n",
       "      <th>label</th>\n",
       "    </tr>\n",
       "  </thead>\n",
       "  <tbody>\n",
       "    <tr>\n",
       "      <th>0</th>\n",
       "      <td>He said he had not felt that way before, sugge...</td>\n",
       "      <td>mild</td>\n",
       "    </tr>\n",
       "    <tr>\n",
       "      <th>1</th>\n",
       "      <td>Hey there r/assistance, Not sure if this is th...</td>\n",
       "      <td>minimum</td>\n",
       "    </tr>\n",
       "    <tr>\n",
       "      <th>2</th>\n",
       "      <td>My mom then hit me with the newspaper and it s...</td>\n",
       "      <td>minimum</td>\n",
       "    </tr>\n",
       "    <tr>\n",
       "      <th>3</th>\n",
       "      <td>until i met my new boyfriend, he is amazing, h...</td>\n",
       "      <td>mild</td>\n",
       "    </tr>\n",
       "    <tr>\n",
       "      <th>4</th>\n",
       "      <td>October is Domestic Violence Awareness Month a...</td>\n",
       "      <td>moderate</td>\n",
       "    </tr>\n",
       "  </tbody>\n",
       "</table>\n",
       "</div>"
      ],
      "text/plain": [
       "                                                text     label\n",
       "0  He said he had not felt that way before, sugge...      mild\n",
       "1  Hey there r/assistance, Not sure if this is th...   minimum\n",
       "2  My mom then hit me with the newspaper and it s...   minimum\n",
       "3  until i met my new boyfriend, he is amazing, h...      mild\n",
       "4  October is Domestic Violence Awareness Month a...  moderate"
      ]
     },
     "execution_count": 5,
     "metadata": {},
     "output_type": "execute_result"
    }
   ],
   "source": [
    "df.head()"
   ]
  },
  {
   "cell_type": "code",
   "execution_count": 6,
   "id": "5a26ec09",
   "metadata": {},
   "outputs": [],
   "source": [
    "# Clean label column\n",
    "df['label'] = df['label'].str.lower().str.strip().str.replace(\")\", \"\", regex=False)"
   ]
  },
  {
   "cell_type": "code",
   "execution_count": 7,
   "id": "30e0d4a1",
   "metadata": {},
   "outputs": [],
   "source": [
    "# Convert to binary classification\n",
    "yes_labels = ['mild', 'moderate', 'severe', 'extreme']\n",
    "no_labels = ['minimum', 'none']\n",
    "df['binary_label'] = df['label'].apply(lambda x: 'YES' if x in yes_labels else ('NO' if x in no_labels else 'UNKNOWN'))\n",
    "\n",
    "# Drop unclassified labels\n",
    "df = df[df['binary_label'] != 'UNKNOWN']"
   ]
  },
  {
   "cell_type": "code",
   "execution_count": 8,
   "id": "58287072",
   "metadata": {},
   "outputs": [],
   "source": [
    "# Encode binary labels\n",
    "le = LabelEncoder()\n",
    "df['label_encoded'] = le.fit_transform(df['binary_label'])  # YES=1, NO=0"
   ]
  },
  {
   "cell_type": "code",
   "execution_count": 9,
   "id": "ea5c5a5f",
   "metadata": {},
   "outputs": [],
   "source": [
    "# ----------------------------\n",
    "# Tokenization and padding\n",
    "# ----------------------------\n",
    "MAX_NUM_WORDS = 10000\n",
    "MAX_SEQUENCE_LENGTH = 100\n",
    "\n",
    "tokenizer = Tokenizer(num_words=MAX_NUM_WORDS, oov_token=\"<OOV>\")\n",
    "tokenizer.fit_on_texts(df['text'])\n",
    "\n",
    "sequences = tokenizer.texts_to_sequences(df['text'])\n",
    "padded_sequences = pad_sequences(sequences, maxlen=MAX_SEQUENCE_LENGTH, padding='post')\n"
   ]
  },
  {
   "cell_type": "code",
   "execution_count": 10,
   "id": "7d8b608a",
   "metadata": {},
   "outputs": [],
   "source": [
    "# ----------------------------\n",
    "# Train/test split\n",
    "# ----------------------------\n",
    "X_train, X_test, y_train, y_test = train_test_split(padded_sequences, df['label_encoded'], test_size=0.2, random_state=42)\n",
    "y_train_cat = to_categorical(y_train)\n",
    "y_test_cat = to_categorical(y_test)"
   ]
  },
  {
   "cell_type": "code",
   "execution_count": 11,
   "id": "f3e73d2e",
   "metadata": {},
   "outputs": [],
   "source": [
    "# ----------------------------\n",
    "# Build LSTM model\n",
    "# ----------------------------\n",
    "model = Sequential([\n",
    "    Embedding(input_dim=MAX_NUM_WORDS, output_dim=64, input_length=MAX_SEQUENCE_LENGTH),\n",
    "    LSTM(128),\n",
    "    Dropout(0.3),\n",
    "    Dense(64, activation='relu'),\n",
    "    Dropout(0.3),\n",
    "    Dense(2, activation='softmax')\n",
    "])\n",
    "\n",
    "model.compile(loss='categorical_crossentropy', optimizer='adam', metrics=['accuracy'])"
   ]
  },
  {
   "cell_type": "code",
   "execution_count": 12,
   "id": "be6deb6f",
   "metadata": {},
   "outputs": [
    {
     "name": "stdout",
     "output_type": "stream",
     "text": [
      "Epoch 1/5\n",
      "524/524 [==============================] - 149s 270ms/step - loss: 0.4481 - accuracy: 0.7910 - val_loss: 0.3664 - val_accuracy: 0.8214\n",
      "Epoch 2/5\n",
      "524/524 [==============================] - 136s 261ms/step - loss: 0.3504 - accuracy: 0.8297 - val_loss: 0.3324 - val_accuracy: 0.8309\n",
      "Epoch 3/5\n",
      "524/524 [==============================] - 131s 250ms/step - loss: 0.3148 - accuracy: 0.8496 - val_loss: 0.3365 - val_accuracy: 0.8370\n",
      "Epoch 4/5\n",
      "524/524 [==============================] - 135s 258ms/step - loss: 0.2865 - accuracy: 0.8682 - val_loss: 0.3233 - val_accuracy: 0.8531\n",
      "Epoch 5/5\n",
      "524/524 [==============================] - 139s 266ms/step - loss: 0.2770 - accuracy: 0.8670 - val_loss: 0.3507 - val_accuracy: 0.8530\n"
     ]
    },
    {
     "data": {
      "text/plain": [
       "<keras.src.callbacks.History at 0x228e058de80>"
      ]
     },
     "execution_count": 12,
     "metadata": {},
     "output_type": "execute_result"
    }
   ],
   "source": [
    "# ----------------------------\n",
    "# Train LSTM\n",
    "# ----------------------------\n",
    "model.fit(X_train, y_train_cat, validation_data=(X_test, y_test_cat), epochs=5, batch_size=64)"
   ]
  },
  {
   "cell_type": "code",
   "execution_count": 13,
   "id": "baf0c926",
   "metadata": {},
   "outputs": [
    {
     "name": "stdout",
     "output_type": "stream",
     "text": [
      "\n",
      "✅ LSTM Test Accuracy: 0.8530\n"
     ]
    }
   ],
   "source": [
    "# ----------------------------\n",
    "# Evaluate\n",
    "# ----------------------------\n",
    "loss, acc = model.evaluate(X_test, y_test_cat, verbose=0)\n",
    "print(f\"\\n✅ LSTM Test Accuracy: {acc:.4f}\")"
   ]
  },
  {
   "cell_type": "code",
   "execution_count": 14,
   "id": "4937426c",
   "metadata": {},
   "outputs": [],
   "source": [
    "new_text = [\"I feel hopeless and tired all the time.\"]"
   ]
  },
  {
   "cell_type": "code",
   "execution_count": 15,
   "id": "864723f6",
   "metadata": {},
   "outputs": [],
   "source": [
    "# ----------------------------\n",
    "# Preprocess using the same tokenizer and padding\n",
    "# ----------------------------\n",
    "sequence = tokenizer.texts_to_sequences(new_text)\n",
    "padded = pad_sequences(sequence, maxlen=MAX_SEQUENCE_LENGTH, padding='post')"
   ]
  },
  {
   "cell_type": "code",
   "execution_count": 16,
   "id": "7b01a644",
   "metadata": {},
   "outputs": [
    {
     "name": "stdout",
     "output_type": "stream",
     "text": [
      "1/1 [==============================] - 6s 6s/step\n"
     ]
    }
   ],
   "source": [
    "# ----------------------------\n",
    "# Predict\n",
    "# ----------------------------\n",
    "pred = model.predict(padded)\n",
    "predicted_class = tf.argmax(pred, axis=1).numpy()[0]"
   ]
  },
  {
   "cell_type": "code",
   "execution_count": 17,
   "id": "24d8115a",
   "metadata": {},
   "outputs": [],
   "source": [
    "# Decode the label\n",
    "label = le.inverse_transform([predicted_class])[0]"
   ]
  },
  {
   "cell_type": "code",
   "execution_count": 18,
   "id": "106f19f7",
   "metadata": {},
   "outputs": [
    {
     "name": "stdout",
     "output_type": "stream",
     "text": [
      "Input: I feel hopeless and tired all the time.\n",
      "Predicted Class: YES (confidence = 0.9948)\n"
     ]
    }
   ],
   "source": [
    "print(f\"Input: {new_text[0]}\")\n",
    "print(f\"Predicted Class: {label} (confidence = {pred[0][predicted_class]:.4f})\")"
   ]
  }
 ],
 "metadata": {
  "kernelspec": {
   "display_name": "venv",
   "language": "python",
   "name": "python3"
  },
  "language_info": {
   "codemirror_mode": {
    "name": "ipython",
    "version": 3
   },
   "file_extension": ".py",
   "mimetype": "text/x-python",
   "name": "python",
   "nbconvert_exporter": "python",
   "pygments_lexer": "ipython3",
   "version": "3.9.0"
  }
 },
 "nbformat": 4,
 "nbformat_minor": 5
}
